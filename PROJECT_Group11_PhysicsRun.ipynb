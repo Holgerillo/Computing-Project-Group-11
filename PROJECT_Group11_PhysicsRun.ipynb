{
 "cells": [
  {
   "cell_type": "markdown",
   "metadata": {},
   "source": [
    " \n",
    " \n",
    " "
   ]
  },
  {
   "cell_type": "markdown",
   "metadata": {},
   "source": [
    "# PROJECT: PARTICLE DETECTOR DATA ANALYSIS\n",
    "### Dataset: Run330, Physics Run\n",
    "\n",
    "<a id =6></a><br>\n",
    "The same code is applied to the physics run. The description of these codes, however, are in the calibration run notebook. In this notebook, we show the main differences between the calibration run and the physics run. The highlights are linked below.\n",
    " \n",
    " - [HISTOGRAM OF HITS PER CHANNEL](#1)\n",
    " \n",
    " - [EVENTS OF PHYSICS RUN](#2)\n",
    " \n",
    " - [DISTRIBUTION OF DRIFT TIMES](#3)\n",
    " \n",
    " - [RATIO OF USEFUL EVENTS](#5)\n",
    " \n",
    " - [DETECTOR MATRIX](#4)\n",
    " \n",
    " "
   ]
  },
  {
   "cell_type": "code",
   "execution_count": 1,
   "metadata": {},
   "outputs": [],
   "source": [
    "# Important imports\n",
    "import numpy as np\n",
    "import pandas as pd\n",
    "import matplotlib.pyplot as plt\n",
    "from IPython.display import display\n",
    "from os import listdir\n",
    "from os.path import isfile, join, getsize\n",
    "from IPython.display import Markdown, display\n",
    "def printmd(string):\n",
    "    display(Markdown(string)) # for markdown purposes\n",
    "from numba import vectorize, int64, int32, jit, njit, cuda, float64"
   ]
  },
  {
   "cell_type": "markdown",
   "metadata": {},
   "source": [
    "***\n",
    "\n",
    "# I. THE DATA\n",
    "[Content Outline](#6)"
   ]
  },
  {
   "cell_type": "code",
   "execution_count": 2,
   "metadata": {
    "scrolled": true
   },
   "outputs": [
    {
     "data": {
      "text/markdown": [
       "## DESCRIPTION OF THE DATA"
      ],
      "text/plain": [
       "<IPython.core.display.Markdown object>"
      ]
     },
     "metadata": {},
     "output_type": "display_data"
    },
    {
     "name": "stdout",
     "output_type": "stream",
     "text": [
      "Files concatenated: \n",
      " ['data/Run000333/data_000000.txt', 'data/Run000333/data_000001.txt', 'data/Run000333/data_000002.txt', 'data/Run000333/data_000003.txt', 'data/Run000333/data_000004.txt', 'data/Run000333/data_000005.txt', 'data/Run000333/data_000006.txt'] \n",
      "\n",
      "<class 'pandas.core.frame.DataFrame'>\n",
      "RangeIndex: 9174912 entries, 0 to 9174911\n",
      "Data columns (total 5 columns):\n",
      " #   Column       Dtype\n",
      "---  ------       -----\n",
      " 0   FPGA         int64\n",
      " 1   TDC_CHANNEL  int64\n",
      " 2   ORBIT_CNT    int64\n",
      " 3   BX_COUNTER   int64\n",
      " 4   TDC_MEAS     int64\n",
      "dtypes: int64(5)\n",
      "memory usage: 350.0 MB\n",
      "None\n"
     ]
    },
    {
     "data": {
      "text/markdown": [
       "## THE DATAFRAME"
      ],
      "text/plain": [
       "<IPython.core.display.Markdown object>"
      ]
     },
     "metadata": {},
     "output_type": "display_data"
    },
    {
     "data": {
      "text/markdown": [
       "The dataframe below presents the first 10 hits as presented in the raw data."
      ],
      "text/plain": [
       "<IPython.core.display.Markdown object>"
      ]
     },
     "metadata": {},
     "output_type": "display_data"
    },
    {
     "data": {
      "text/html": [
       "<div>\n",
       "<style scoped>\n",
       "    .dataframe tbody tr th:only-of-type {\n",
       "        vertical-align: middle;\n",
       "    }\n",
       "\n",
       "    .dataframe tbody tr th {\n",
       "        vertical-align: top;\n",
       "    }\n",
       "\n",
       "    .dataframe thead th {\n",
       "        text-align: right;\n",
       "    }\n",
       "</style>\n",
       "<table border=\"1\" class=\"dataframe\">\n",
       "  <thead>\n",
       "    <tr style=\"text-align: right;\">\n",
       "      <th></th>\n",
       "      <th>FPGA</th>\n",
       "      <th>TDC_CHANNEL</th>\n",
       "      <th>ORBIT_CNT</th>\n",
       "      <th>BX_COUNTER</th>\n",
       "      <th>TDC_MEAS</th>\n",
       "    </tr>\n",
       "  </thead>\n",
       "  <tbody>\n",
       "    <tr>\n",
       "      <th>0</th>\n",
       "      <td>1</td>\n",
       "      <td>4</td>\n",
       "      <td>3838279555</td>\n",
       "      <td>2703</td>\n",
       "      <td>1</td>\n",
       "    </tr>\n",
       "    <tr>\n",
       "      <th>1</th>\n",
       "      <td>0</td>\n",
       "      <td>62</td>\n",
       "      <td>3838279555</td>\n",
       "      <td>2695</td>\n",
       "      <td>25</td>\n",
       "    </tr>\n",
       "    <tr>\n",
       "      <th>2</th>\n",
       "      <td>1</td>\n",
       "      <td>12</td>\n",
       "      <td>3838279555</td>\n",
       "      <td>2698</td>\n",
       "      <td>22</td>\n",
       "    </tr>\n",
       "    <tr>\n",
       "      <th>3</th>\n",
       "      <td>0</td>\n",
       "      <td>50</td>\n",
       "      <td>3838279555</td>\n",
       "      <td>2698</td>\n",
       "      <td>23</td>\n",
       "    </tr>\n",
       "    <tr>\n",
       "      <th>4</th>\n",
       "      <td>1</td>\n",
       "      <td>14</td>\n",
       "      <td>3838279555</td>\n",
       "      <td>2708</td>\n",
       "      <td>14</td>\n",
       "    </tr>\n",
       "    <tr>\n",
       "      <th>5</th>\n",
       "      <td>0</td>\n",
       "      <td>57</td>\n",
       "      <td>3838279555</td>\n",
       "      <td>2707</td>\n",
       "      <td>25</td>\n",
       "    </tr>\n",
       "    <tr>\n",
       "      <th>6</th>\n",
       "      <td>1</td>\n",
       "      <td>1</td>\n",
       "      <td>3838279555</td>\n",
       "      <td>2704</td>\n",
       "      <td>10</td>\n",
       "    </tr>\n",
       "    <tr>\n",
       "      <th>7</th>\n",
       "      <td>0</td>\n",
       "      <td>64</td>\n",
       "      <td>3838279555</td>\n",
       "      <td>2706</td>\n",
       "      <td>21</td>\n",
       "    </tr>\n",
       "    <tr>\n",
       "      <th>8</th>\n",
       "      <td>1</td>\n",
       "      <td>2</td>\n",
       "      <td>3838279555</td>\n",
       "      <td>2705</td>\n",
       "      <td>19</td>\n",
       "    </tr>\n",
       "    <tr>\n",
       "      <th>9</th>\n",
       "      <td>0</td>\n",
       "      <td>59</td>\n",
       "      <td>3838279555</td>\n",
       "      <td>2708</td>\n",
       "      <td>1</td>\n",
       "    </tr>\n",
       "  </tbody>\n",
       "</table>\n",
       "</div>"
      ],
      "text/plain": [
       "   FPGA  TDC_CHANNEL   ORBIT_CNT  BX_COUNTER  TDC_MEAS\n",
       "0     1            4  3838279555        2703         1\n",
       "1     0           62  3838279555        2695        25\n",
       "2     1           12  3838279555        2698        22\n",
       "3     0           50  3838279555        2698        23\n",
       "4     1           14  3838279555        2708        14\n",
       "5     0           57  3838279555        2707        25\n",
       "6     1            1  3838279555        2704        10\n",
       "7     0           64  3838279555        2706        21\n",
       "8     1            2  3838279555        2705        19\n",
       "9     0           59  3838279555        2708         1"
      ]
     },
     "metadata": {},
     "output_type": "display_data"
    }
   ],
   "source": [
    "# Set as True for Physics run \n",
    "REAL_DATA = True\n",
    "\n",
    "# Limit the amount of data we are accepting \n",
    "if REAL_DATA == True:\n",
    "    mypath = 'data/Run000333/'\n",
    "else:\n",
    "    mypath = 'data/Run000260/'\n",
    "\n",
    "max_mb = 256 # maximum size of data in mb to read\n",
    "files = [join(mypath, f) for f in listdir(mypath) if isfile(join(mypath, f))]\n",
    "mb = 0\n",
    "for i in range(len(files)):\n",
    "    mb += getsize(files[i])/1024**2 # getsize returns size in bytes\n",
    "    if mb >= max_mb:\n",
    "        files = files[:(i-1)]\n",
    "        break\n",
    "\n",
    "# Concatenate the files and load the data\n",
    "data = pd.concat([pd.read_csv(file) for file in files], axis = 0)\n",
    "data.reset_index(inplace=True, drop=True) #This resets the index from 0 to onwards\n",
    "# data = pd.read_csv(files[0])\n",
    "\n",
    "# Drop the 'HEAD' column\n",
    "data.drop('HEAD', inplace=True, axis=1) # We remove the 'HEAD', inplace = True because we return nothing\n",
    "\n",
    "# Print the description of the data\n",
    "printmd('## DESCRIPTION OF THE DATA')\n",
    "print('Files concatenated:', '\\n', files, '\\n') # To check which files are read\n",
    "print(data.info())\n",
    "# display(data.describe())\n",
    "\n",
    "#Visualize the first 10 entries of the file\n",
    "printmd('## THE DATAFRAME')\n",
    "printmd('The dataframe below presents the first 10 hits as presented in the raw data.')\n",
    "display(data.head(10))"
   ]
  },
  {
   "cell_type": "code",
   "execution_count": 3,
   "metadata": {},
   "outputs": [
    {
     "data": {
      "text/markdown": [
       " ## HISTOGRAM OF HITS PER TDC CHANNEL <a id =1></a><br>"
      ],
      "text/plain": [
       "<IPython.core.display.Markdown object>"
      ]
     },
     "metadata": {},
     "output_type": "display_data"
    },
    {
     "data": {
      "text/markdown": [
       "Remark: There are a lot of hits falling under the mean time trigger channel: 139."
      ],
      "text/plain": [
       "<IPython.core.display.Markdown object>"
      ]
     },
     "metadata": {},
     "output_type": "display_data"
    },
    {
     "data": {
      "image/png": "[encoded data removed]",
      "text/plain": [
       "<Figure size 720x288 with 2 Axes>"
      ]
     },
     "metadata": {
      "needs_background": "light"
     },
     "output_type": "display_data"
    }
   ],
   "source": [
    "# Plot histogram\n",
    "fig, (ax1,ax2) = plt.subplots(1,2,figsize=(10,4))\n",
    "\n",
    "df_0 = data[data['FPGA']==0]\n",
    "df_1 = data[data['FPGA']==1]\n",
    "\n",
    "max_channel = data['TDC_CHANNEL'].max()\n",
    "df_0.hist('TDC_CHANNEL', ax=ax1, bins=max_channel)#, range=(137,138))\n",
    "df_1.hist('TDC_CHANNEL', ax=ax2, bins=max_channel)#, range=(137,138))\n",
    "ax1.set_title('FPGA 0')\n",
    "ax2.set_title('FPGA 1')\n",
    "\n",
    "printmd(' ## HISTOGRAM OF HITS PER TDC CHANNEL <a id =1></a><br>')\n",
    "printmd('Remark: There are a lot of hits falling under the mean time trigger channel: 139.')\n",
    "plt.show()\n",
    "\n",
    "\n",
    "# The difference between the channel distributions reflect the difference between the beams used in \n",
    "# the calibration run and the physics run. \n",
    "# Discontinuity and lesser amplitudes: shift in chamber"
   ]
  },
  {
   "cell_type": "code",
   "execution_count": 4,
   "metadata": {},
   "outputs": [
    {
     "data": {
      "text/markdown": [
       "## HISTOGRAM (Calibration Run)"
      ],
      "text/plain": [
       "<IPython.core.display.Markdown object>"
      ]
     },
     "metadata": {},
     "output_type": "display_data"
    },
    {
     "data": {
      "image/png": "[encoded data removed]",
      "text/plain": [
       "<Figure size 864x360 with 1 Axes>"
      ]
     },
     "metadata": {
      "needs_background": "light"
     },
     "output_type": "display_data"
    },
    {
     "data": {
      "text/markdown": [
       "From observation, the distribution of hits in the calibration run is more \"flat\" as compared to the physics"
      ],
      "text/plain": [
       "<IPython.core.display.Markdown object>"
      ]
     },
     "metadata": {},
     "output_type": "display_data"
    }
   ],
   "source": [
    "printmd('## HISTOGRAM (Calibration Run)')\n",
    "plt.figure(figsize = (12, 5))\n",
    "calib_hist = plt.imread('histogram1.png')\n",
    "#fig, ax = plt.subplots(figsize=(12, 6))\n",
    "plt.imshow(calib_hist, aspect = 'auto')\n",
    "plt.axis('off')\n",
    "plt.show()\n",
    "\n",
    "printmd('From observation, the distribution of hits in the calibration run is more \"flat\" as compared to the physics')"
   ]
  },
  {
   "cell_type": "markdown",
   "metadata": {},
   "source": [
    "***\n",
    "# II. ADDING NEW COLUMNS: TIME, DETECTOR, LAYER, AND CELL\n",
    " [Content Outline](#6)"
   ]
  },
  {
   "cell_type": "markdown",
   "metadata": {},
   "source": [
    "## CONSTANTS: TRIGGER CHANNELS AND TMAX, L, Vd"
   ]
  },
  {
   "cell_type": "code",
   "execution_count": 5,
   "metadata": {},
   "outputs": [],
   "source": [
    "st1 = 137  # Scintillator trigger channel 1\n",
    "st2 = 138  # Scintillator trigger channel 2\n",
    "mtt = 139  # Mean-time trigger channel\n",
    "T_M = 390  #(maximum drift time in ns)\n",
    "L = 42  # (lenght of the cell in mm)\n",
    "v_d = L/(2*T_M)  # (constant drift velocity in mm/ns)"
   ]
  },
  {
   "cell_type": "markdown",
   "metadata": {},
   "source": [
    "## TIME, DETECTOR, LAYER, AND CELL COLUMNS"
   ]
  },
  {
   "cell_type": "code",
   "execution_count": 6,
   "metadata": {
    "scrolled": true
   },
   "outputs": [],
   "source": [
    "# Time column\n",
    "data['time'] = data['BX_COUNTER']*25 + data['TDC_MEAS']*25/30\n"
   ]
  },
  {
   "cell_type": "code",
   "execution_count": 7,
   "metadata": {},
   "outputs": [
    {
     "name": "stdout",
     "output_type": "stream",
     "text": [
      "[(2, 3, 1), (2, 3, 2), (2, 3, 3), (2, 3, 4), (2, 3, 5), (2, 3, 6), (2, 3, 7), (2, 3, 8), (2, 3, 9), (2, 3, 10), (2, 3, 11), (2, 3, 12), (2, 3, 13), (2, 3, 14), (2, 3, 15), (2, 3, 16)]\n"
     ]
    }
   ],
   "source": [
    "# Define function to add the detector, layer and cell columns \n",
    "\n",
    "@vectorize([int64(int64, int64)])\n",
    "def giveDetector(fpga, channel):\n",
    "    if channel > 128:\n",
    "        return -1\n",
    "\n",
    "    channel -= 1\n",
    "    return fpga*2 + 1 + channel // 64\n",
    "\n",
    "@vectorize([int64(int64)])\n",
    "def giveLayer(channel):\n",
    "    if channel > 128:\n",
    "        return -1\n",
    "\n",
    "    layer_map = {0 : 1,\n",
    "                 1 : 4,\n",
    "                 2 : 2,\n",
    "                 3 : 3}\n",
    "\n",
    "    cell_index = channel % 64\n",
    "    layer = layer_map[cell_index % 4]\n",
    "    \n",
    "    return layer\n",
    "\n",
    "@vectorize([int64(int64)])\n",
    "def giveCell(channel):\n",
    "    if channel > 128:\n",
    "        return -1\n",
    "\n",
    "    channel -= 1\n",
    "    cell_index = channel % 64\n",
    "    cell = cell_index // 4 + 1\n",
    "\n",
    "    return cell\n",
    "\n",
    "# Test of functions(one particular layer and detector arrangement)\n",
    "if __name__ == '__main__':\n",
    "    first_cell_of_layer = 67\n",
    "    a = np.arange(first_cell_of_layer,first_cell_of_layer+16*4,4)\n",
    "    print(list(zip(giveDetector(0,a), giveLayer(a), giveCell(a))))"
   ]
  },
  {
   "cell_type": "code",
   "execution_count": 8,
   "metadata": {
    "scrolled": true
   },
   "outputs": [
    {
     "data": {
      "text/markdown": [
       "Dataframe now has new columns: time, detector, layer, and cell."
      ],
      "text/plain": [
       "<IPython.core.display.Markdown object>"
      ]
     },
     "metadata": {},
     "output_type": "display_data"
    },
    {
     "data": {
      "text/html": [
       "<div>\n",
       "<style scoped>\n",
       "    .dataframe tbody tr th:only-of-type {\n",
       "        vertical-align: middle;\n",
       "    }\n",
       "\n",
       "    .dataframe tbody tr th {\n",
       "        vertical-align: top;\n",
       "    }\n",
       "\n",
       "    .dataframe thead th {\n",
       "        text-align: right;\n",
       "    }\n",
       "</style>\n",
       "<table border=\"1\" class=\"dataframe\">\n",
       "  <thead>\n",
       "    <tr style=\"text-align: right;\">\n",
       "      <th></th>\n",
       "      <th>FPGA</th>\n",
       "      <th>TDC_CHANNEL</th>\n",
       "      <th>ORBIT_CNT</th>\n",
       "      <th>BX_COUNTER</th>\n",
       "      <th>TDC_MEAS</th>\n",
       "      <th>time</th>\n",
       "      <th>detector</th>\n",
       "      <th>layer</th>\n",
       "      <th>cell</th>\n",
       "    </tr>\n",
       "  </thead>\n",
       "  <tbody>\n",
       "    <tr>\n",
       "      <th>0</th>\n",
       "      <td>1</td>\n",
       "      <td>4</td>\n",
       "      <td>3838279555</td>\n",
       "      <td>2703</td>\n",
       "      <td>1</td>\n",
       "      <td>67575.833333</td>\n",
       "      <td>3</td>\n",
       "      <td>1</td>\n",
       "      <td>1</td>\n",
       "    </tr>\n",
       "    <tr>\n",
       "      <th>1</th>\n",
       "      <td>0</td>\n",
       "      <td>62</td>\n",
       "      <td>3838279555</td>\n",
       "      <td>2695</td>\n",
       "      <td>25</td>\n",
       "      <td>67395.833333</td>\n",
       "      <td>1</td>\n",
       "      <td>2</td>\n",
       "      <td>16</td>\n",
       "    </tr>\n",
       "    <tr>\n",
       "      <th>2</th>\n",
       "      <td>1</td>\n",
       "      <td>12</td>\n",
       "      <td>3838279555</td>\n",
       "      <td>2698</td>\n",
       "      <td>22</td>\n",
       "      <td>67468.333333</td>\n",
       "      <td>3</td>\n",
       "      <td>1</td>\n",
       "      <td>3</td>\n",
       "    </tr>\n",
       "    <tr>\n",
       "      <th>3</th>\n",
       "      <td>0</td>\n",
       "      <td>50</td>\n",
       "      <td>3838279555</td>\n",
       "      <td>2698</td>\n",
       "      <td>23</td>\n",
       "      <td>67469.166667</td>\n",
       "      <td>1</td>\n",
       "      <td>2</td>\n",
       "      <td>13</td>\n",
       "    </tr>\n",
       "    <tr>\n",
       "      <th>4</th>\n",
       "      <td>1</td>\n",
       "      <td>14</td>\n",
       "      <td>3838279555</td>\n",
       "      <td>2708</td>\n",
       "      <td>14</td>\n",
       "      <td>67711.666667</td>\n",
       "      <td>3</td>\n",
       "      <td>2</td>\n",
       "      <td>4</td>\n",
       "    </tr>\n",
       "  </tbody>\n",
       "</table>\n",
       "</div>"
      ],
      "text/plain": [
       "   FPGA  TDC_CHANNEL   ORBIT_CNT  BX_COUNTER  TDC_MEAS          time  \\\n",
       "0     1            4  3838279555        2703         1  67575.833333   \n",
       "1     0           62  3838279555        2695        25  67395.833333   \n",
       "2     1           12  3838279555        2698        22  67468.333333   \n",
       "3     0           50  3838279555        2698        23  67469.166667   \n",
       "4     1           14  3838279555        2708        14  67711.666667   \n",
       "\n",
       "   detector  layer  cell  \n",
       "0         3      1     1  \n",
       "1         1      2    16  \n",
       "2         3      1     3  \n",
       "3         1      2    13  \n",
       "4         3      2     4  "
      ]
     },
     "metadata": {},
     "output_type": "display_data"
    }
   ],
   "source": [
    "# Calculate the detector, layer & cell columns according to the previous functions\n",
    "data['detector'] = giveDetector(data['FPGA'], data['TDC_CHANNEL'])\n",
    "data['layer'] = giveLayer(data['TDC_CHANNEL'])\n",
    "data['cell'] = giveCell(data['TDC_CHANNEL'])\n",
    "\n",
    "printmd(\"Dataframe now has new columns: time, detector, layer, and cell.\")\n",
    "display(data.head(5))"
   ]
  },
  {
   "cell_type": "markdown",
   "metadata": {},
   "source": [
    "***\n",
    "# III. FINDING EVENTS \n",
    " [Content Outline](#6)"
   ]
  },
  {
   "cell_type": "markdown",
   "metadata": {},
   "source": [
    "A trigger dataset is formed by applying a mask to the original data in order to isolate the hits that correspond to the TDC_CHANNEL 139. Similar lines of code are presented for the two other trigger channels, scintillator 1 and 2. "
   ]
  },
  {
   "cell_type": "code",
   "execution_count": 9,
   "metadata": {},
   "outputs": [],
   "source": [
    "trigger_mtt = data.loc[data['TDC_CHANNEL']==mtt, ['ORBIT_CNT','time']]\n",
    "trigger_st = data.loc[(data['TDC_CHANNEL']==st1) | (data['TDC_CHANNEL']==st2), ['ORBIT_CNT','time']]\n"
   ]
  },
  {
   "cell_type": "markdown",
   "metadata": {},
   "source": [
    "Using the .isin() function, the orbits found in trigger_mtt data is isolated from the original dataset to produce the 'events' dataset because, supposedly, **one event corresponds to one common orbit.** The next lines of code sorts the by orbits and reindexed to present the data for each event."
   ]
  },
  {
   "cell_type": "code",
   "execution_count": 10,
   "metadata": {
    "scrolled": true
   },
   "outputs": [
    {
     "data": {
      "text/markdown": [
       "### Events in the Mean time Trigger <a id =2></a><br>"
      ],
      "text/plain": [
       "<IPython.core.display.Markdown object>"
      ]
     },
     "metadata": {},
     "output_type": "display_data"
    },
    {
     "data": {
      "text/html": [
       "<div>\n",
       "<style scoped>\n",
       "    .dataframe tbody tr th:only-of-type {\n",
       "        vertical-align: middle;\n",
       "    }\n",
       "\n",
       "    .dataframe tbody tr th {\n",
       "        vertical-align: top;\n",
       "    }\n",
       "\n",
       "    .dataframe thead th {\n",
       "        text-align: right;\n",
       "    }\n",
       "</style>\n",
       "<table border=\"1\" class=\"dataframe\">\n",
       "  <thead>\n",
       "    <tr style=\"text-align: right;\">\n",
       "      <th></th>\n",
       "      <th></th>\n",
       "      <th>FPGA</th>\n",
       "      <th>TDC_CHANNEL</th>\n",
       "      <th>ORBIT_CNT</th>\n",
       "      <th>BX_COUNTER</th>\n",
       "      <th>TDC_MEAS</th>\n",
       "      <th>time</th>\n",
       "      <th>detector</th>\n",
       "      <th>layer</th>\n",
       "      <th>cell</th>\n",
       "    </tr>\n",
       "    <tr>\n",
       "      <th>event</th>\n",
       "      <th>index</th>\n",
       "      <th></th>\n",
       "      <th></th>\n",
       "      <th></th>\n",
       "      <th></th>\n",
       "      <th></th>\n",
       "      <th></th>\n",
       "      <th></th>\n",
       "      <th></th>\n",
       "      <th></th>\n",
       "    </tr>\n",
       "  </thead>\n",
       "  <tbody>\n",
       "    <tr>\n",
       "      <th rowspan=\"5\" valign=\"top\">1</th>\n",
       "      <th>76</th>\n",
       "      <td>0</td>\n",
       "      <td>4</td>\n",
       "      <td>3838279555</td>\n",
       "      <td>3200</td>\n",
       "      <td>12</td>\n",
       "      <td>80010.000000</td>\n",
       "      <td>1</td>\n",
       "      <td>1</td>\n",
       "      <td>1</td>\n",
       "    </tr>\n",
       "    <tr>\n",
       "      <th>88</th>\n",
       "      <td>0</td>\n",
       "      <td>32</td>\n",
       "      <td>3838279555</td>\n",
       "      <td>3206</td>\n",
       "      <td>25</td>\n",
       "      <td>80170.833333</td>\n",
       "      <td>1</td>\n",
       "      <td>1</td>\n",
       "      <td>8</td>\n",
       "    </tr>\n",
       "    <tr>\n",
       "      <th>11</th>\n",
       "      <td>0</td>\n",
       "      <td>40</td>\n",
       "      <td>3838279555</td>\n",
       "      <td>2730</td>\n",
       "      <td>12</td>\n",
       "      <td>68260.000000</td>\n",
       "      <td>1</td>\n",
       "      <td>1</td>\n",
       "      <td>10</td>\n",
       "    </tr>\n",
       "    <tr>\n",
       "      <th>96</th>\n",
       "      <td>0</td>\n",
       "      <td>40</td>\n",
       "      <td>3838279555</td>\n",
       "      <td>3202</td>\n",
       "      <td>19</td>\n",
       "      <td>80065.833333</td>\n",
       "      <td>1</td>\n",
       "      <td>1</td>\n",
       "      <td>10</td>\n",
       "    </tr>\n",
       "    <tr>\n",
       "      <th>42</th>\n",
       "      <td>0</td>\n",
       "      <td>44</td>\n",
       "      <td>3838279555</td>\n",
       "      <td>2831</td>\n",
       "      <td>28</td>\n",
       "      <td>70798.333333</td>\n",
       "      <td>1</td>\n",
       "      <td>1</td>\n",
       "      <td>11</td>\n",
       "    </tr>\n",
       "  </tbody>\n",
       "</table>\n",
       "</div>"
      ],
      "text/plain": [
       "             FPGA  TDC_CHANNEL   ORBIT_CNT  BX_COUNTER  TDC_MEAS  \\\n",
       "event index                                                        \n",
       "1     76        0            4  3838279555        3200        12   \n",
       "      88        0           32  3838279555        3206        25   \n",
       "      11        0           40  3838279555        2730        12   \n",
       "      96        0           40  3838279555        3202        19   \n",
       "      42        0           44  3838279555        2831        28   \n",
       "\n",
       "                     time  detector  layer  cell  \n",
       "event index                                       \n",
       "1     76     80010.000000         1      1     1  \n",
       "      88     80170.833333         1      1     8  \n",
       "      11     68260.000000         1      1    10  \n",
       "      96     80065.833333         1      1    10  \n",
       "      42     70798.333333         1      1    11  "
      ]
     },
     "metadata": {},
     "output_type": "display_data"
    }
   ],
   "source": [
    "\n",
    "#.isin function compares the two arrays and takes only the orbits that are found in the trigger\n",
    "events_mtt = data.loc[data['ORBIT_CNT'].isin(trigger_mtt['ORBIT_CNT'])]\n",
    "events_st = data.loc[data['ORBIT_CNT'].isin(trigger_st['ORBIT_CNT'])]\n",
    "\n",
    "def create_events(df):\n",
    "    events = df.copy(deep=False)\n",
    "    # We remove the events that are in channels above 128\n",
    "    events = events[events['TDC_CHANNEL'] <= 128]\n",
    "\n",
    "    # We now group by orbit\n",
    "    events['event'] = events.groupby('ORBIT_CNT').ngroup()+1\n",
    "\n",
    "    # Common orbits correspond to a single event\n",
    "    events.set_index(['event', events.index], inplace=True) # We make the events column an index\n",
    "    events.rename_axis(('event','index'), inplace=True)\n",
    "    events.sort_values(['ORBIT_CNT','detector','layer','cell'], inplace=True) # We sort according to these categories\n",
    "    \n",
    "    return events\n",
    "\n",
    "printmd('### Events in the Mean time Trigger <a id =2></a><br>')\n",
    "events_mtt = create_events(events_mtt)\n",
    "display(events_mtt.head(5))\n",
    "if not trigger_st.empty:\n",
    "    printmd('### Events in the Scintillator Trigger')\n",
    "    events_st = create_events(events_st)\n",
    "    display(events_st.head(5))"
   ]
  },
  {
   "cell_type": "markdown",
   "metadata": {},
   "source": [
    "***\n",
    "\n",
    "# IV. FINDING TRAJECTORIES"
   ]
  },
  {
   "cell_type": "code",
   "execution_count": 11,
   "metadata": {},
   "outputs": [],
   "source": [
    "def findTrajectories(df):\n",
    "    data = df.copy(deep=False)\n",
    "    data['t0_123'] = 0\n",
    "    data['t0_234'] = 0\n",
    "    for i in data.index.get_level_values(0).unique():\n",
    "        present_detectors = data.loc[i,'detector'].unique()\n",
    "        ev = data.loc[i].copy(deep=False)\n",
    "        \n",
    "        for det in present_detectors:\n",
    "            sub_ev = ev.loc[ev['detector'] == det].copy(deep=False)\n",
    "            for l in range(1,4):\n",
    "                fst_layer = sub_ev.loc[sub_ev['layer'] == l, 'cell']\n",
    "                sec_layer = sub_ev.loc[sub_ev['layer'] == l+1, 'cell']\n",
    "\n",
    "                # Find successor for each cell in layer\n",
    "                if l % 2 == 0:\n",
    "                    successor_mask = fst_layer.isin(sec_layer) | fst_layer.isin(sec_layer+1)\n",
    "                else:\n",
    "                    successor_mask = fst_layer.isin(sec_layer) | fst_layer.isin(sec_layer-1)\n",
    "                \n",
    "                # Drop whole sub_event if the current layer is completely empty\n",
    "                if successor_mask.sum() == 0:\n",
    "                    sub_ev['t0_1'] = np.nan\n",
    "                    sub_ev['t0_2'] = np.nan\n",
    "                    break\n",
    "\n",
    "                else:\n",
    "                    # Drop rows where no successor was found\n",
    "                    sub_ev.loc[(successor_mask==False).index, 't0_1'] = np.nan\n",
    "                    sub_ev.loc[(successor_mask==False).index, 't0_2'] = np.nan\n",
    "\n",
    "            na_mask = sub_ev['t0_1'].notna()\n",
    "            if na_mask.sum() > 0:\n",
    "                t_1 = sub_ev.loc[(sub_ev.loc[na_mask, 'layer']==1).index, 't0_1'].iloc[0]\n",
    "                t_2 = sub_ev.loc[(sub_ev.loc[na_mask, 'layer']==2).index, 't0_1'].iloc[0]\n",
    "                t_3 = sub_ev.loc[(sub_ev.loc[na_mask, 'layer']==3).index, 't0_1'].iloc[0]\n",
    "                t_4 = sub_ev.loc[(sub_ev.loc[na_mask, 'layer']==4).index, 't0_1'].iloc[0]\n",
    "                sub_ev.loc[na_mask,'t0_1'] = 0.5*(0.5*(t_1 + t_3) + t_2)\n",
    "                sub_ev.loc[na_mask, 't0_2'] = 0.5*(0.5*(t_2 + t_4) + t_3)\n",
    "\n",
    "    return data\n",
    "\n",
    "\n",
    "# np.isin or in function of numpy/python is not supported by numba\n",
    "# That's why we make a new .isin function to be able to use the @njit decorator\n",
    "@njit\n",
    "def myIsin(array_a, array_b):\n",
    "    result = np.zeros(len(array_a), dtype=np.bool_)\n",
    "    for i,a in enumerate(array_a):\n",
    "        for j,b in enumerate(array_b):\n",
    "            if a == b:\n",
    "                result[i] = True\n",
    "                break\n",
    "    return result\n",
    "\n",
    "\n",
    "@njit\n",
    "def findTrajectories_np(data, inds, columns):\n",
    "    det_ind, lay_ind, cel_ind, time_ind, t0_1_ind, t0_2_ind = columns #detector, layer, cel, time, 1t0, 2t0 are the columns\n",
    "    #np.roll (array, shift, axis)  #elements of the input array are being shifted\n",
    "    ev_locs = np.where(inds - np.roll(inds,1)!=0)[0]  #np.where(condition,[x,y]) return elements chosen from x or y depending on condition.\n",
    "    ev_locs = np.append(ev_locs, [len(inds)])\n",
    "\n",
    "    for i in range(len(ev_locs)-1):\n",
    "    \n",
    "        ev = data[ev_locs[i]:ev_locs[i+1]]\n",
    "\n",
    "        # Every row registered in same detector?\n",
    "        if np.unique(ev[:,det_ind]).size != 1:\n",
    "            sub_ev_locs = np.where(ev[:,det_ind]-np.roll(ev[:,det_ind],1)!=0)[0]\n",
    "            sub_ev_locs = np.append(sub_ev_locs, [len(ev[:,det_ind])])\n",
    "\n",
    "        else:\n",
    "            sub_ev_locs = np.array([0,len(ev[:,det_ind])])\n",
    "\n",
    "        for j in range(len(sub_ev_locs)-1):\n",
    "            sub_ev = ev[sub_ev_locs[j]:sub_ev_locs[j+1]]\n",
    "\n",
    "            for l in range(1,4):\n",
    "                fst_layer = sub_ev[sub_ev[:,lay_ind]==l,cel_ind]\n",
    "                sec_layer = sub_ev[sub_ev[:,lay_ind]==l+1,cel_ind]\n",
    "\n",
    "                # Find successor for each cell in layer\n",
    "                if l % 2 == 0:\n",
    "                    successor_mask = myIsin(fst_layer, sec_layer) | myIsin(fst_layer, sec_layer+1)\n",
    "                else:\n",
    "                    successor_mask = myIsin(fst_layer, sec_layer) | myIsin(fst_layer, sec_layer-1)\n",
    "\n",
    "                # Drop whole sub_event if the current layer is completely empty\n",
    "                if np.any(successor_mask) == False:\n",
    "                    sub_ev[:,t0_1_ind] = np.nan\n",
    "                    sub_ev[:,t0_2_ind] = np.nan\n",
    "                    break\n",
    "\n",
    "                # Else mark rows where no predecessor was found\n",
    "                # if one cell was found with no predecessor\n",
    "                elif np.all(successor_mask) == False: # False has to be np.array([False]) so that numba broadcasts\n",
    "                    idx = np.nonzero(successor_mask==np.array([False]))[0] + np.nonzero(sub_ev[:,lay_ind]==l)[0][0]\n",
    "                    sub_ev[idx,t0_1_ind] = np.nan\n",
    "                    sub_ev[idx,t0_2_ind] = np.nan\n",
    "\n",
    "            # Compute t0 if a trajectory was found\n",
    "            mask = ~np.isnan(sub_ev[:,t0_1_ind]) # mask where values are numbers and not NaN\n",
    "            if np.any(mask) == True:\n",
    "                t_1 = sub_ev[sub_ev[mask,lay_ind]==1,time_ind][0]\n",
    "                t_2 = sub_ev[sub_ev[mask,lay_ind]==2,time_ind][0]\n",
    "                t_3 = sub_ev[sub_ev[mask,lay_ind]==3,time_ind][0]\n",
    "                t_4 = sub_ev[sub_ev[mask,lay_ind]==4,time_ind][0]\n",
    "                sub_ev[mask,t0_1_ind] = 0.5*(0.5*(t_1 + t_3) + t_2 - T_M)\n",
    "                sub_ev[mask,t0_2_ind] = 0.5*(0.5*(t_2 + t_4) + t_3 - T_M)\n",
    "\n",
    "    return data"
   ]
  },
  {
   "cell_type": "markdown",
   "metadata": {},
   "source": [
    "\n",
    "## Computing $t_0$"
   ]
  },
  {
   "cell_type": "code",
   "execution_count": 12,
   "metadata": {},
   "outputs": [
    {
     "data": {
      "text/markdown": [
       "### $t_0$ for Mean Time Trigger"
      ],
      "text/plain": [
       "<IPython.core.display.Markdown object>"
      ]
     },
     "metadata": {},
     "output_type": "display_data"
    },
    {
     "data": {
      "text/html": [
       "<div>\n",
       "<style scoped>\n",
       "    .dataframe tbody tr th:only-of-type {\n",
       "        vertical-align: middle;\n",
       "    }\n",
       "\n",
       "    .dataframe tbody tr th {\n",
       "        vertical-align: top;\n",
       "    }\n",
       "\n",
       "    .dataframe thead th {\n",
       "        text-align: right;\n",
       "    }\n",
       "</style>\n",
       "<table border=\"1\" class=\"dataframe\">\n",
       "  <thead>\n",
       "    <tr style=\"text-align: right;\">\n",
       "      <th></th>\n",
       "      <th></th>\n",
       "      <th>FPGA</th>\n",
       "      <th>TDC_CHANNEL</th>\n",
       "      <th>ORBIT_CNT</th>\n",
       "      <th>BX_COUNTER</th>\n",
       "      <th>TDC_MEAS</th>\n",
       "      <th>time</th>\n",
       "      <th>detector</th>\n",
       "      <th>layer</th>\n",
       "      <th>cell</th>\n",
       "      <th>t0_123</th>\n",
       "      <th>t0_234</th>\n",
       "    </tr>\n",
       "    <tr>\n",
       "      <th>event</th>\n",
       "      <th>index</th>\n",
       "      <th></th>\n",
       "      <th></th>\n",
       "      <th></th>\n",
       "      <th></th>\n",
       "      <th></th>\n",
       "      <th></th>\n",
       "      <th></th>\n",
       "      <th></th>\n",
       "      <th></th>\n",
       "      <th></th>\n",
       "      <th></th>\n",
       "    </tr>\n",
       "  </thead>\n",
       "  <tbody>\n",
       "    <tr>\n",
       "      <th rowspan=\"5\" valign=\"top\">1</th>\n",
       "      <th>76</th>\n",
       "      <td>0.0</td>\n",
       "      <td>4.0</td>\n",
       "      <td>3.838280e+09</td>\n",
       "      <td>3200.0</td>\n",
       "      <td>12.0</td>\n",
       "      <td>80010.000000</td>\n",
       "      <td>1</td>\n",
       "      <td>1</td>\n",
       "      <td>1</td>\n",
       "      <td>NaN</td>\n",
       "      <td>NaN</td>\n",
       "    </tr>\n",
       "    <tr>\n",
       "      <th>88</th>\n",
       "      <td>0.0</td>\n",
       "      <td>32.0</td>\n",
       "      <td>3.838280e+09</td>\n",
       "      <td>3206.0</td>\n",
       "      <td>25.0</td>\n",
       "      <td>80170.833333</td>\n",
       "      <td>1</td>\n",
       "      <td>1</td>\n",
       "      <td>8</td>\n",
       "      <td>NaN</td>\n",
       "      <td>NaN</td>\n",
       "    </tr>\n",
       "    <tr>\n",
       "      <th>11</th>\n",
       "      <td>0.0</td>\n",
       "      <td>40.0</td>\n",
       "      <td>3.838280e+09</td>\n",
       "      <td>2730.0</td>\n",
       "      <td>12.0</td>\n",
       "      <td>68260.000000</td>\n",
       "      <td>1</td>\n",
       "      <td>1</td>\n",
       "      <td>10</td>\n",
       "      <td>76573.125</td>\n",
       "      <td>73416.875</td>\n",
       "    </tr>\n",
       "    <tr>\n",
       "      <th>96</th>\n",
       "      <td>0.0</td>\n",
       "      <td>40.0</td>\n",
       "      <td>3.838280e+09</td>\n",
       "      <td>3202.0</td>\n",
       "      <td>19.0</td>\n",
       "      <td>80065.833333</td>\n",
       "      <td>1</td>\n",
       "      <td>1</td>\n",
       "      <td>10</td>\n",
       "      <td>76573.125</td>\n",
       "      <td>73416.875</td>\n",
       "    </tr>\n",
       "    <tr>\n",
       "      <th>42</th>\n",
       "      <td>0.0</td>\n",
       "      <td>44.0</td>\n",
       "      <td>3.838280e+09</td>\n",
       "      <td>2831.0</td>\n",
       "      <td>28.0</td>\n",
       "      <td>70798.333333</td>\n",
       "      <td>1</td>\n",
       "      <td>1</td>\n",
       "      <td>11</td>\n",
       "      <td>76573.125</td>\n",
       "      <td>73416.875</td>\n",
       "    </tr>\n",
       "  </tbody>\n",
       "</table>\n",
       "</div>"
      ],
      "text/plain": [
       "             FPGA  TDC_CHANNEL     ORBIT_CNT  BX_COUNTER  TDC_MEAS  \\\n",
       "event index                                                          \n",
       "1     76      0.0          4.0  3.838280e+09      3200.0      12.0   \n",
       "      88      0.0         32.0  3.838280e+09      3206.0      25.0   \n",
       "      11      0.0         40.0  3.838280e+09      2730.0      12.0   \n",
       "      96      0.0         40.0  3.838280e+09      3202.0      19.0   \n",
       "      42      0.0         44.0  3.838280e+09      2831.0      28.0   \n",
       "\n",
       "                     time  detector  layer  cell     t0_123     t0_234  \n",
       "event index                                                             \n",
       "1     76     80010.000000         1      1     1        NaN        NaN  \n",
       "      88     80170.833333         1      1     8        NaN        NaN  \n",
       "      11     68260.000000         1      1    10  76573.125  73416.875  \n",
       "      96     80065.833333         1      1    10  76573.125  73416.875  \n",
       "      42     70798.333333         1      1    11  76573.125  73416.875  "
      ]
     },
     "metadata": {},
     "output_type": "display_data"
    }
   ],
   "source": [
    "def calculate_t0(df):\n",
    "    events = df.copy(deep=False)\n",
    "\n",
    "    events['t0_123'] = 0\n",
    "    events['t0_234'] = 0\n",
    "    level0_inds = events.index.get_level_values(0).to_numpy()\n",
    "    c_names = ['detector', 'layer', 'cell', 'time', 't0_123', 't0_234']\n",
    "    columns = np.array([events.columns.get_loc(column) for column in c_names])\n",
    "\n",
    "    data = findTrajectories_np(events.to_numpy(), level0_inds, columns)\n",
    "    events = pd.DataFrame(data=data, index=events.index, columns=events.columns)\n",
    "\n",
    "    events['detector'] = events['detector'].astype(np.int32)\n",
    "    events['layer'] = events['layer'].astype(np.int32)\n",
    "    events['cell'] = events['cell'].astype(np.int32)\n",
    "\n",
    "    return events\n",
    "\n",
    "printmd(\"### $t_0$ for Mean Time Trigger\")\n",
    "events_mtt = calculate_t0(events_mtt)\n",
    "display(events_mtt.head(5))\n",
    "if not trigger_st.empty:\n",
    "    printmd(\"### $t_0$ for Scintillator Trigger\")\n",
    "    events_st = calculate_t0(events_st)\n",
    "    display(events_st.head(5))"
   ]
  },
  {
   "cell_type": "markdown",
   "metadata": {},
   "source": [
    "***\n",
    "# V. CHARACTERIZING THE EVENTS\n",
    " [Content Outline](#6)\n",
    "## CALCULATION OF DRIFT TIMES"
   ]
  },
  {
   "cell_type": "code",
   "execution_count": 13,
   "metadata": {},
   "outputs": [
    {
     "data": {
      "text/markdown": [
       "#### For the Mean time Trigger"
      ],
      "text/plain": [
       "<IPython.core.display.Markdown object>"
      ]
     },
     "metadata": {},
     "output_type": "display_data"
    },
    {
     "data": {
      "image/png": "[encoded data removed]",
      "text/plain": [
       "<Figure size 432x288 with 1 Axes>"
      ]
     },
     "metadata": {
      "needs_background": "light"
     },
     "output_type": "display_data"
    }
   ],
   "source": [
    "def make_hist(df):\n",
    "    events = df.copy(deep=False)\n",
    "\n",
    "    #  Check if t0_123 & t0_234 are \"reasonable close\" to each other, if they are compute average\n",
    "    mask = np.abs(events['t0_123'] - events['t0_234']) < T_M/4\n",
    "    events.loc[mask, 't0'] = (events['t0_123'] + events['t0_234'])/2\n",
    "    events.loc[~mask, 't0'] = np.nan\n",
    "\n",
    "    #  Optionally drop t0_123 and t0_234\n",
    "    events.drop(['t0_123', 't0_234'], inplace=True, axis=1)\n",
    "\n",
    "    #  Compute drift time and position\n",
    "    events['drift_time'] = events['time'] - events['t0']\n",
    "    events['x'] = v_d*events['drift_time']\n",
    "\n",
    "    #  Clean up data for events which have a negative drift time or a position over 21mm\n",
    "    events.loc[(events['drift_time']<0) | (events['x']>L/2), 't0'] = np.nan\n",
    "\n",
    "    hist, edges,_ = plt.hist(events.loc[events['t0'].notna(), 'drift_time'], bins=100)\n",
    "    mid_edges = (edges[:-1] + edges[1:])/2\n",
    "\n",
    "    plt.title('Distribution of Drift Times')\n",
    "    plt.axvline(mid_edges[np.argmax(hist)], c='r', ls='--')\n",
    "    plt.xlabel('Drift time (ns)')\n",
    "    plt.ylabel('Number of Occurrences')\n",
    "\n",
    "    plt.show()\n",
    "\n",
    "    return events\n",
    "\n",
    "\n",
    "printmd('#### For the Mean time Trigger')    \n",
    "events_mtt = make_hist(events_mtt)\n",
    "if not trigger_st.empty:\n",
    "    printmd('#### For the Scintillator Trigger')    \n",
    "    events_st = make_hist(events_st)"
   ]
  },
  {
   "cell_type": "code",
   "execution_count": 14,
   "metadata": {},
   "outputs": [
    {
     "data": {
      "text/markdown": [
       "#### Drift Times (Calibration Run)  <a id =3></a><br>"
      ],
      "text/plain": [
       "<IPython.core.display.Markdown object>"
      ]
     },
     "metadata": {},
     "output_type": "display_data"
    },
    {
     "data": {
      "text/markdown": [
       "Both the calibration run and physics run show similar behavior: a maximum around 200 ns."
      ],
      "text/plain": [
       "<IPython.core.display.Markdown object>"
      ]
     },
     "metadata": {},
     "output_type": "display_data"
    },
    {
     "data": {
      "image/png": "[encoded data removed]",
      "text/plain": [
       "<Figure size 864x360 with 1 Axes>"
      ]
     },
     "metadata": {
      "needs_background": "light"
     },
     "output_type": "display_data"
    }
   ],
   "source": [
    "printmd('#### Drift Times (Calibration Run)  <a id =3></a><br>')\n",
    "printmd('Both the calibration run and physics run show similar behavior: a maximum around 200 ns.')\n",
    "plt.figure(figsize = (12, 5))\n",
    "calib_hist = plt.imread('drift_mtt.png')\n",
    "#fig, ax = plt.subplots(figsize=(12, 6))\n",
    "plt.imshow(calib_hist)\n",
    "plt.axis('off')\n",
    "plt.show()"
   ]
  },
  {
   "cell_type": "markdown",
   "metadata": {},
   "source": [
    "## FILTERING THE DATA"
   ]
  },
  {
   "cell_type": "code",
   "execution_count": 15,
   "metadata": {
    "scrolled": true
   },
   "outputs": [
    {
     "data": {
      "text/markdown": [
       "### Useful Events <a id =5></a><br>"
      ],
      "text/plain": [
       "<IPython.core.display.Markdown object>"
      ]
     },
     "metadata": {},
     "output_type": "display_data"
    },
    {
     "name": "stdout",
     "output_type": "stream",
     "text": [
      "Mean Time Trigger (Physics Run):\n",
      "\"useful rows\" / \"all rows\":  0.007690596077508771\n",
      "\"useful events\" / \"all events\" 0.9319010544988666\n",
      "\n",
      " Mean Time Trigger (Calibration Run):\n",
      "\"useful rows\" / \"all rows\":  0.7248652838992968\n",
      "\"useful events\" / \"all events\" 0.9690319274265875\n"
     ]
    },
    {
     "data": {
      "text/markdown": [
       "Remark: There is less useful hits in the Physics Run."
      ],
      "text/plain": [
       "<IPython.core.display.Markdown object>"
      ]
     },
     "metadata": {},
     "output_type": "display_data"
    }
   ],
   "source": [
    "def print_useful_events(df):\n",
    "    events = df.copy(deep=False)\n",
    "\n",
    "    # Ratio of \"useful rows\" to all rows\n",
    "    try:\n",
    "        print('\"useful rows\" / \"all rows\": ', 1 - len(events[events['t0'].isna()])/events.shape[0])\n",
    "    except ZeroDivisionError:\n",
    "        print('Error: Dataframe is empty')\n",
    "\n",
    "    #  Event is counted as useful if 4 or more times are available\n",
    "    event_groups = events.loc[events['t0'].notna(),'time'].groupby('event').count()\n",
    "    # print(event_groups) \n",
    "    try:\n",
    "        print('\"useful events\" / \"all events\"', (event_groups>3).sum()/len(event_groups))  # some events only have 3 (or below) hits\n",
    "    except ZeroDivisionError:\n",
    "        print('Error: Dataframe is empty')\n",
    "\n",
    "printmd('### Useful Events <a id =5></a><br>')\n",
    "print('Mean Time Trigger (Physics Run):')\n",
    "print_useful_events(events_mtt)\n",
    "print('\\n Mean Time Trigger (Calibration Run):')\n",
    "print('\"useful rows\" / \"all rows\":  0.7248652838992968')\n",
    "print('\"useful events\" / \"all events\" 0.9690319274265875')\n",
    "printmd('Remark: There is less useful hits in the Physics Run.')\n",
    "\n",
    "if not trigger_st.empty:\n",
    "    print('\\n','Scintillator Trigger')\n",
    "    print_useful_events(events_st)"
   ]
  },
  {
   "cell_type": "markdown",
   "metadata": {},
   "source": [
    "### Now we filter the data with the following criteria\n",
    "1. Drop hits that do not align\n",
    "2. Obtain events that have at least one hit per layer (i.e. 4 layer representation)\n",
    "3. Sort out events that have only one detector representation"
   ]
  },
  {
   "cell_type": "code",
   "execution_count": 16,
   "metadata": {},
   "outputs": [
    {
     "data": {
      "text/markdown": [
       "### Event 1 for the Mean time Trigger"
      ],
      "text/plain": [
       "<IPython.core.display.Markdown object>"
      ]
     },
     "metadata": {},
     "output_type": "display_data"
    },
    {
     "data": {
      "text/html": [
       "<div>\n",
       "<style scoped>\n",
       "    .dataframe tbody tr th:only-of-type {\n",
       "        vertical-align: middle;\n",
       "    }\n",
       "\n",
       "    .dataframe tbody tr th {\n",
       "        vertical-align: top;\n",
       "    }\n",
       "\n",
       "    .dataframe thead th {\n",
       "        text-align: right;\n",
       "    }\n",
       "</style>\n",
       "<table border=\"1\" class=\"dataframe\">\n",
       "  <thead>\n",
       "    <tr style=\"text-align: right;\">\n",
       "      <th></th>\n",
       "      <th></th>\n",
       "      <th>FPGA</th>\n",
       "      <th>TDC_CHANNEL</th>\n",
       "      <th>ORBIT_CNT</th>\n",
       "      <th>BX_COUNTER</th>\n",
       "      <th>TDC_MEAS</th>\n",
       "      <th>time</th>\n",
       "      <th>detector</th>\n",
       "      <th>layer</th>\n",
       "      <th>cell</th>\n",
       "      <th>t0</th>\n",
       "      <th>drift_time</th>\n",
       "      <th>x</th>\n",
       "    </tr>\n",
       "    <tr>\n",
       "      <th>event</th>\n",
       "      <th>index</th>\n",
       "      <th></th>\n",
       "      <th></th>\n",
       "      <th></th>\n",
       "      <th></th>\n",
       "      <th></th>\n",
       "      <th></th>\n",
       "      <th></th>\n",
       "      <th></th>\n",
       "      <th></th>\n",
       "      <th></th>\n",
       "      <th></th>\n",
       "      <th></th>\n",
       "    </tr>\n",
       "  </thead>\n",
       "  <tbody>\n",
       "    <tr>\n",
       "      <th rowspan=\"8\" valign=\"top\">1</th>\n",
       "      <th>24562</th>\n",
       "      <td>0.0</td>\n",
       "      <td>8.0</td>\n",
       "      <td>3.838280e+09</td>\n",
       "      <td>1382.0</td>\n",
       "      <td>5.0</td>\n",
       "      <td>34554.166667</td>\n",
       "      <td>1</td>\n",
       "      <td>1</td>\n",
       "      <td>2</td>\n",
       "      <td>34277.8125</td>\n",
       "      <td>276.354167</td>\n",
       "      <td>14.880609</td>\n",
       "    </tr>\n",
       "    <tr>\n",
       "      <th>24557</th>\n",
       "      <td>0.0</td>\n",
       "      <td>6.0</td>\n",
       "      <td>3.838280e+09</td>\n",
       "      <td>1375.0</td>\n",
       "      <td>29.0</td>\n",
       "      <td>34399.166667</td>\n",
       "      <td>1</td>\n",
       "      <td>2</td>\n",
       "      <td>2</td>\n",
       "      <td>34277.8125</td>\n",
       "      <td>121.354167</td>\n",
       "      <td>6.534455</td>\n",
       "    </tr>\n",
       "    <tr>\n",
       "      <th>24559</th>\n",
       "      <td>0.0</td>\n",
       "      <td>7.0</td>\n",
       "      <td>3.838280e+09</td>\n",
       "      <td>1379.0</td>\n",
       "      <td>13.0</td>\n",
       "      <td>34485.833333</td>\n",
       "      <td>1</td>\n",
       "      <td>3</td>\n",
       "      <td>2</td>\n",
       "      <td>34277.8125</td>\n",
       "      <td>208.020833</td>\n",
       "      <td>11.201122</td>\n",
       "    </tr>\n",
       "    <tr>\n",
       "      <th>24561</th>\n",
       "      <td>0.0</td>\n",
       "      <td>5.0</td>\n",
       "      <td>3.838280e+09</td>\n",
       "      <td>1382.0</td>\n",
       "      <td>28.0</td>\n",
       "      <td>34573.333333</td>\n",
       "      <td>1</td>\n",
       "      <td>4</td>\n",
       "      <td>2</td>\n",
       "      <td>34277.8125</td>\n",
       "      <td>295.520833</td>\n",
       "      <td>15.912660</td>\n",
       "    </tr>\n",
       "    <tr>\n",
       "      <th>24547</th>\n",
       "      <td>0.0</td>\n",
       "      <td>76.0</td>\n",
       "      <td>3.838280e+09</td>\n",
       "      <td>843.0</td>\n",
       "      <td>24.0</td>\n",
       "      <td>21095.000000</td>\n",
       "      <td>2</td>\n",
       "      <td>1</td>\n",
       "      <td>3</td>\n",
       "      <td>20909.6875</td>\n",
       "      <td>185.312500</td>\n",
       "      <td>9.978365</td>\n",
       "    </tr>\n",
       "    <tr>\n",
       "      <th>24544</th>\n",
       "      <td>0.0</td>\n",
       "      <td>74.0</td>\n",
       "      <td>3.838280e+09</td>\n",
       "      <td>842.0</td>\n",
       "      <td>21.0</td>\n",
       "      <td>21067.500000</td>\n",
       "      <td>2</td>\n",
       "      <td>2</td>\n",
       "      <td>3</td>\n",
       "      <td>20909.6875</td>\n",
       "      <td>157.812500</td>\n",
       "      <td>8.497596</td>\n",
       "    </tr>\n",
       "    <tr>\n",
       "      <th>24545</th>\n",
       "      <td>0.0</td>\n",
       "      <td>86.0</td>\n",
       "      <td>3.838280e+09</td>\n",
       "      <td>844.0</td>\n",
       "      <td>25.0</td>\n",
       "      <td>21120.833333</td>\n",
       "      <td>2</td>\n",
       "      <td>2</td>\n",
       "      <td>6</td>\n",
       "      <td>20909.6875</td>\n",
       "      <td>211.145833</td>\n",
       "      <td>11.369391</td>\n",
       "    </tr>\n",
       "    <tr>\n",
       "      <th>24550</th>\n",
       "      <td>0.0</td>\n",
       "      <td>83.0</td>\n",
       "      <td>3.838280e+09</td>\n",
       "      <td>851.0</td>\n",
       "      <td>21.0</td>\n",
       "      <td>21292.500000</td>\n",
       "      <td>2</td>\n",
       "      <td>3</td>\n",
       "      <td>5</td>\n",
       "      <td>20909.6875</td>\n",
       "      <td>382.812500</td>\n",
       "      <td>20.612981</td>\n",
       "    </tr>\n",
       "  </tbody>\n",
       "</table>\n",
       "</div>"
      ],
      "text/plain": [
       "             FPGA  TDC_CHANNEL     ORBIT_CNT  BX_COUNTER  TDC_MEAS  \\\n",
       "event index                                                          \n",
       "1     24562   0.0          8.0  3.838280e+09      1382.0       5.0   \n",
       "      24557   0.0          6.0  3.838280e+09      1375.0      29.0   \n",
       "      24559   0.0          7.0  3.838280e+09      1379.0      13.0   \n",
       "      24561   0.0          5.0  3.838280e+09      1382.0      28.0   \n",
       "      24547   0.0         76.0  3.838280e+09       843.0      24.0   \n",
       "      24544   0.0         74.0  3.838280e+09       842.0      21.0   \n",
       "      24545   0.0         86.0  3.838280e+09       844.0      25.0   \n",
       "      24550   0.0         83.0  3.838280e+09       851.0      21.0   \n",
       "\n",
       "                     time  detector  layer  cell          t0  drift_time  \\\n",
       "event index                                                                \n",
       "1     24562  34554.166667         1      1     2  34277.8125  276.354167   \n",
       "      24557  34399.166667         1      2     2  34277.8125  121.354167   \n",
       "      24559  34485.833333         1      3     2  34277.8125  208.020833   \n",
       "      24561  34573.333333         1      4     2  34277.8125  295.520833   \n",
       "      24547  21095.000000         2      1     3  20909.6875  185.312500   \n",
       "      24544  21067.500000         2      2     3  20909.6875  157.812500   \n",
       "      24545  21120.833333         2      2     6  20909.6875  211.145833   \n",
       "      24550  21292.500000         2      3     5  20909.6875  382.812500   \n",
       "\n",
       "                     x  \n",
       "event index             \n",
       "1     24562  14.880609  \n",
       "      24557   6.534455  \n",
       "      24559  11.201122  \n",
       "      24561  15.912660  \n",
       "      24547   9.978365  \n",
       "      24544   8.497596  \n",
       "      24545  11.369391  \n",
       "      24550  20.612981  "
      ]
     },
     "metadata": {},
     "output_type": "display_data"
    }
   ],
   "source": [
    "def prepare_for_vis(df):\n",
    "    # Drop all not aligning hits\n",
    "    visual_evs = df.dropna(subset = ['t0']).copy() \n",
    "    \n",
    "    #  Sort out events which do not go through each layer for each present detector \n",
    "    go_through_each_lay = (visual_evs.loc[:,['layer','detector']].groupby(['event','detector']).nunique() == 4).loc[:,'layer']\n",
    "    go_through_each_lay = go_through_each_lay.groupby('event').all()\n",
    "    \n",
    "    #  Sort out events which are only registered in one detector\n",
    "    multiple_detectors = visual_evs.loc[:,'detector'].groupby('event').nunique() > 1\n",
    "    \n",
    "    #  Combine the two masks\n",
    "    index_mask = go_through_each_lay & multiple_detectors\n",
    "\n",
    "    #  Apply mask to the dataframe\n",
    "    visual_evs = visual_evs.loc[visual_evs.index.get_level_values(0).map(index_mask),:]\n",
    "\n",
    "    #  Reindex the event index level starting from 1\n",
    "    visual_evs.reset_index(level='event', inplace=True)\n",
    "    visual_evs.loc[:,'event'] = (visual_evs.loc[:,'event'].diff()!=0).cumsum()\n",
    "    visual_evs.set_index(['event', visual_evs.index], inplace=True)\n",
    "    \n",
    "    return visual_evs\n",
    "\n",
    "\n",
    "events_mtt_vis = prepare_for_vis(events_mtt)\n",
    "printmd('### Event 1 for the Mean time Trigger')\n",
    "display(events_mtt_vis.head(8))\n",
    "if not trigger_st.empty:\n",
    "    events_st_vis = prepare_for_vis(events_st)\n",
    "    printmd('### Event 1 for the Scintillator Trigger')\n",
    "    display(events_st_vis.head(8))"
   ]
  },
  {
   "cell_type": "markdown",
   "metadata": {},
   "source": [
    "***\n",
    "# <a id =4></a><br> VI. THE DETECTOR MATRIX \n",
    " [Content Outline](#6)\n",
    " "
   ]
  },
  {
   "cell_type": "code",
   "execution_count": 17,
   "metadata": {
    "scrolled": true
   },
   "outputs": [
    {
     "data": {
      "text/markdown": [
       "The following paths represent some of the event trajectories found in the data. <span style='color:blue'> Blue </span> dots indicate paths at the right of the anodic wire, while <span style='color:green'> green </span> dots indicate paths at the left as in the project description"
      ],
      "text/plain": [
       "<IPython.core.display.Markdown object>"
      ]
     },
     "metadata": {},
     "output_type": "display_data"
    },
    {
     "data": {
      "text/markdown": [
       "#### Event Path 1"
      ],
      "text/plain": [
       "<IPython.core.display.Markdown object>"
      ]
     },
     "metadata": {},
     "output_type": "display_data"
    },
    {
     "data": {
      "text/markdown": [
       "This event follows a trajectory of a particle through detectors 1 and 2."
      ],
      "text/plain": [
       "<IPython.core.display.Markdown object>"
      ]
     },
     "metadata": {},
     "output_type": "display_data"
    },
    {
     "data": {
      "image/png": "[encoded data removed]",
      "text/plain": [
       "<Figure size 864x288 with 4 Axes>"
      ]
     },
     "metadata": {
      "needs_background": "light"
     },
     "output_type": "display_data"
    },
    {
     "data": {
      "text/markdown": [
       "#### Event Path 2"
      ],
      "text/plain": [
       "<IPython.core.display.Markdown object>"
      ]
     },
     "metadata": {},
     "output_type": "display_data"
    },
    {
     "data": {
      "text/markdown": [
       "This event follows a trajectory of a particle through detectors 3 and 4."
      ],
      "text/plain": [
       "<IPython.core.display.Markdown object>"
      ]
     },
     "metadata": {},
     "output_type": "display_data"
    },
    {
     "data": {
      "image/png": "[encoded data removed]",
      "text/plain": [
       "<Figure size 864x288 with 4 Axes>"
      ]
     },
     "metadata": {
      "needs_background": "light"
     },
     "output_type": "display_data"
    },
    {
     "data": {
      "text/markdown": [
       "#### Event Path 3"
      ],
      "text/plain": [
       "<IPython.core.display.Markdown object>"
      ]
     },
     "metadata": {},
     "output_type": "display_data"
    },
    {
     "data": {
      "text/markdown": [
       "Like in the Calibration run, we get these noisy trajectories. It is noticeable that we get these erratic trajectories much more common in the physics run."
      ],
      "text/plain": [
       "<IPython.core.display.Markdown object>"
      ]
     },
     "metadata": {},
     "output_type": "display_data"
    },
    {
     "data": {
      "image/png": "[encoded data removed]",
      "text/plain": [
       "<Figure size 864x288 with 4 Axes>"
      ]
     },
     "metadata": {
      "needs_background": "light"
     },
     "output_type": "display_data"
    }
   ],
   "source": [
    "def plotDetector(ax, event, is_empty):\n",
    "    detector = np.zeros((4,16*2+1))\n",
    "\n",
    "    even_layers = event['layer']%2 == 0\n",
    "    odd_layers = even_layers == False\n",
    "\n",
    "    def fillDetectorMatrix(matrix, i, j, s=0):\n",
    "        matrix[i,j*2+s] = 1\n",
    "        matrix[i,j*2+1+s] = 1\n",
    "\n",
    "    def plotLeftRight(ax, cell, position, layer, odd, left):\n",
    "        if left == True:\n",
    "            ax.scatter((cell-1-position/L)*2+0.5+odd, layer-1, s=10, c='g', marker='+')\n",
    "        else:\n",
    "            ax.scatter((cell-1+position/L)*2+0.5+odd, layer-1, s=10, c='b', marker='+')\n",
    "    \n",
    "    if is_empty == False:\n",
    "        fillDetectorMatrix(detector, event.loc[even_layers,'layer']-1,\n",
    "                    event.loc[even_layers,'cell']-1, s=0)\n",
    "        fillDetectorMatrix(detector, event.loc[odd_layers,'layer']-1,\n",
    "                    event.loc[odd_layers,'cell']-1, s=1)\n",
    "\n",
    "        for odd,left in [[odd, left] for odd in [True, False] for left in [True,False]]:\n",
    "            if odd == True:\n",
    "                layers = odd_layers\n",
    "            else:\n",
    "                layers = even_layers\n",
    "\n",
    "            plotLeftRight(ax, event.loc[layers, 'cell'], event.loc[layers, 'x'],\n",
    "                     event.loc[layers, 'layer'], odd, left)\n",
    "\n",
    "    detector[(0,1,2,3),(0,32,0,32)] = 0.5 # Mark \"cell offset\"\n",
    "    ax.matshow(detector, origin='lower', cmap='bone', vmin=0, vmax=1)\n",
    "\n",
    "    # Major ticks\n",
    "    ax.set_xticks(np.arange(1.5, 32, 2));\n",
    "    ax.set_yticks(np.arange(0, 4, 1));\n",
    "\n",
    "    # # Labels for major ticks\n",
    "    ax.set_xticklabels(np.arange(1, 17, 1));\n",
    "    ax.set_yticklabels(np.arange(1, 5, 1));\n",
    "\n",
    "    # # Minor ticks\n",
    "    # # ax.set_xticks(np.arange(-.5, 32, 2), minor=True);\n",
    "    ax.set_yticks(np.arange(0.5, 4, 1), minor=True);\n",
    "\n",
    "    ax.grid(which='minor', axis='y', color='w', linewidth=1)\n",
    "    ax.xaxis.set_ticks_position('bottom')\n",
    "    \n",
    "    vert_line = np.array([0,1])\n",
    "    for l in range(4):\n",
    "        for c in range(16):\n",
    "            if l%2 == 0:\n",
    "                ax.plot([c*2+0.5,c*2+0.5], vert_line+l-0.5, c='w')\n",
    "            else:\n",
    "                ax.plot([c*2+1.5,c*2+1.5], vert_line+l-0.5, c='w')\n",
    "\n",
    "def plotEvent(event):\n",
    "    fig, axes = plt.subplots(2, 2, figsize=(12,4))\n",
    "\n",
    "    for i in range(0,4):\n",
    "        sub_ev = event.loc[event['detector']==i+1, :]\n",
    "        plotDetector(axes[1-i%2,i//2], sub_ev, sub_ev.empty)\n",
    "        axes[1-i%2,i//2].set_title('Detector {}'.format(i+1))\n",
    "    # TODO legend\n",
    "\n",
    "    plt.show()\n",
    "\n",
    "\n",
    "printmd(\"The following paths represent some of the event trajectories found in the data. <span style='color:blue'> Blue </span> dots indicate paths at the right of the anodic wire, while <span style='color:green'> green </span> dots indicate paths at the left as in the project description\")\n",
    "printmd(\"#### Event Path 1\")\n",
    "printmd(\"This event follows a trajectory of a particle through detectors 1 and 2.\")\n",
    "plotEvent(events_mtt_vis.loc[11])\n",
    "\n",
    "printmd(\"#### Event Path 2\")\n",
    "printmd(\"This event follows a trajectory of a particle through detectors 3 and 4.\")\n",
    "plotEvent(events_mtt_vis.loc[273])\n",
    "\n",
    "printmd(\"#### Event Path 3\")\n",
    "printmd(\"Like in the Calibration run, we get these noisy trajectories. It is noticeable that we get these erratic trajectories much more common in the physics run.\")\n",
    "plotEvent(events_mtt_vis.loc[116])"
   ]
  },
  {
   "cell_type": "markdown",
   "metadata": {},
   "source": [
    "#### Final Remarks: \n",
    "The Physics Run showed more noise in the data. Nonetheless, the code that was done for the calibration run still worked well."
   ]
  }
 ],
 "metadata": {
  "kernelspec": {
   "display_name": "Python 3",
   "language": "python",
   "name": "python3"
  },
  "language_info": {
   "codemirror_mode": {
    "name": "ipython",
    "version": 3
   },
   "file_extension": ".py",
   "mimetype": "text/x-python",
   "name": "python",
   "nbconvert_exporter": "python",
   "pygments_lexer": "ipython3",
   "version": "3.8.1"
  },
  "widgets": {
   "application/vnd.jupyter.widget-state+json": {
    "state": {},
    "version_major": 2,
    "version_minor": 0
   }
  }
 },
 "nbformat": 4,
 "nbformat_minor": 4
}
